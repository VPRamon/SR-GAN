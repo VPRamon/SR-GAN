{
 "cells": [
  {
   "cell_type": "markdown",
   "id": "8e0765b3",
   "metadata": {},
   "source": [
    "# DownScale Images & .Mat File Creator"
   ]
  },
  {
   "cell_type": "code",
   "execution_count": 5,
   "id": "d6844d70",
   "metadata": {},
   "outputs": [],
   "source": [
    "from PIL import Image\n",
    "import numpy as np\n",
    "\n",
    "def crop(image, height, width):\n",
    "    imgwidth, imgheight = image.size\n",
    "    for i in range(imgheight//height):\n",
    "        for j in range(imgwidth//width):\n",
    "            box = (j*width, i*height, (j+1)*width, (i+1)*height)\n",
    "            yield image.crop(box)\n",
    "            \n",
    "def downScale(image, size = \"2\"):    \n",
    "    width, height = image.size\n",
    "    resized_image = image.resize(( int(width/size), int(height/size)) )\n",
    "    return resized_image\n",
    "\n",
    "def img_to_numpy(image):\n",
    "    return np.asarray(image)"
   ]
  },
  {
   "cell_type": "markdown",
   "id": "bd0ce081",
   "metadata": {},
   "source": [
    "# Dataset Mat Creator"
   ]
  },
  {
   "cell_type": "code",
   "execution_count": 9,
   "id": "5355904d",
   "metadata": {},
   "outputs": [
    {
     "data": {
      "text/plain": [
       "806"
      ]
     },
     "execution_count": 9,
     "metadata": {},
     "output_type": "execute_result"
    }
   ],
   "source": [
    "import os\n",
    "import scipy.io as sio\n",
    "\n",
    "def DatasetCreator(h=64, w=64, factor=4, num_images=1000, orig_path=\"Data/DIV2K_train_LR_mild/\", dest_path=\"Data/Train/dataset_1.mat\"):    \n",
    "    X_list = []\n",
    "    y_list = []\n",
    "    count = 0\n",
    "    images = os.listdir( orig_path )\n",
    "    for image in images:    \n",
    "        img = Image.open(orig_path + image)\n",
    "        for im in crop(img, h, w):\n",
    "            if count >= num_images:\n",
    "                sio.savemat(dest_path, {'X':np.array(X_list), 'y':np.array(y_list)})\n",
    "                return count\n",
    "                \n",
    "            y_list.append( img_to_numpy( im ) )\n",
    "            X_list.append( img_to_numpy( downScale(im, factor) ) )\n",
    "            count += 1\n",
    "        \n",
    "    sio.savemat(dest_path, {'X':np.array(X_list), 'y':np.array(y_list)})\n",
    "    return count\n",
    "\n",
    "        \n",
    "DatasetCreator(h=128, w=128, factor=2, num_images=1000, \n",
    "               orig_path=\"Data/random/\", dest_path=\"Data/Test/dataset_random.mat\")"
   ]
  }
 ],
 "metadata": {
  "kernelspec": {
   "display_name": "Python 3 (ipykernel)",
   "language": "python",
   "name": "python3"
  },
  "language_info": {
   "codemirror_mode": {
    "name": "ipython",
    "version": 3
   },
   "file_extension": ".py",
   "mimetype": "text/x-python",
   "name": "python",
   "nbconvert_exporter": "python",
   "pygments_lexer": "ipython3",
   "version": "3.9.5"
  }
 },
 "nbformat": 4,
 "nbformat_minor": 5
}
